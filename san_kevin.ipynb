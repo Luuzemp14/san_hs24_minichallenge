{
 "cells": [
  {
   "metadata": {},
   "cell_type": "markdown",
   "source": "# Libraries importieren",
   "id": "22d2cb2abceaaed8"
  },
  {
   "metadata": {},
   "cell_type": "code",
   "outputs": [],
   "execution_count": null,
   "source": [
    "import json\n",
    "import scipy as sp\n",
    "import pandas as pd\n",
    "import random\n",
    "import networkx as nx\n",
    "import matplotlib\n",
    "import matplotlib.pyplot as plt\n",
    "from networkx.algorithms.community import girvan_newman\n",
    "from networkx.algorithms.community import label_propagation_communities\n",
    "from networkx.algorithms.community import louvain_communities"
   ],
   "id": "9e5d5629aa67ce71"
  },
  {
   "metadata": {},
   "cell_type": "markdown",
   "source": [
    "Ideen:\n",
    "Centrality Analysis:\n",
    "- Degree Centrality: Identify who interacts the most; they are socially active and likely to have allies.\n",
    "- Betweenness Centrality: Find characters who act as bridges; eliminating them disrupts communication.\n",
    "- Closeness Centrality: Spot the actors who can quickly spread influence throughout the network.\n",
    "Cluster Analysis: Identify the communities or factions. The \"enemy\" may lead or significantly influence one cluster.\n",
    "Netzwerk vergleichen von bös zu schlecht\n",
    "- Link prediction über Episoden\n",
    "- Analyse über Episoden"
   ],
   "id": "dfa7420fff3d544a"
  },
  {
   "metadata": {},
   "cell_type": "markdown",
   "source": "# Daten laden",
   "id": "33b8bf3274e46681"
  },
  {
   "metadata": {},
   "cell_type": "code",
   "outputs": [],
   "execution_count": null,
   "source": [
    "def get_data(path):\n",
    "    file_path = path\n",
    "    with open(file_path, 'r') as f:\n",
    "        data = json.load(f)\n",
    "    return data"
   ],
   "id": "af54fbdd4c45b098"
  },
  {
   "metadata": {},
   "cell_type": "code",
   "outputs": [],
   "execution_count": null,
   "source": [
    "interaction_data = get_data(\"data/starwars-full-interactions-allCharacters.json\")\n",
    "mention_data = get_data(\"data/starwars-full-mentions.json\")"
   ],
   "id": "14ca9759845e8d3a"
  },
  {
   "metadata": {},
   "cell_type": "markdown",
   "source": "# Daten analysieren",
   "id": "82657fd3b2d814d2"
  },
  {
   "metadata": {},
   "cell_type": "code",
   "outputs": [],
   "execution_count": null,
   "source": [
    "# Anzahl der Knoten in den Interaktionsdaten\n",
    "print(\"Anzahl der Knoten in den Interaktionsdaten: \", len(interaction_data['nodes']))\n",
    "# Anzahl der Kanten in den Interaktionsdaten\n",
    "print(\"Anzahl der Kanten in den Interaktionsdaten: \", len(interaction_data['links']))\n"
   ],
   "id": "2e40bedbd8329ce4"
  },
  {
   "metadata": {},
   "cell_type": "code",
   "outputs": [],
   "execution_count": null,
   "source": [
    "# Anzahl der Knoten in den Erwähnungsdaten\n",
    "print(\"Anzahl der Knoten in den Erwähnungsdaten: \", len(mention_data['nodes']))\n",
    "# Anzahl der Kanten in den Erwähnungsdaten\n",
    "print(\"Anzahl der Kanten in den Erwähnungsdaten: \", len(mention_data['links']))\n"
   ],
   "id": "e1b03a9904130b44"
  },
  {
   "metadata": {},
   "cell_type": "code",
   "outputs": [],
   "execution_count": null,
   "source": [
    "# Knoten in den Interaktionsdaten\n",
    "interaction_data['nodes']"
   ],
   "id": "93e602388ed16769"
  },
  {
   "metadata": {},
   "cell_type": "code",
   "outputs": [],
   "execution_count": null,
   "source": [
    "G = nx.Graph()\n",
    "\n",
    "for node in interaction_data['nodes']:\n",
    "    G.add_node(node['name'], value=node['value'], color=node['colour'])\n",
    "\n",
    "for link in interaction_data['links']:\n",
    "    source = interaction_data['nodes'][link['source']]['name']\n",
    "    target = interaction_data['nodes'][link['target']]['name']\n",
    "    G.add_edge(source, target, weight=link['value'])\n",
    "\n",
    "pos = nx.spring_layout(G, seed=42, k=2)\n",
    "node_colors = [G.nodes[node]['color'] for node in G.nodes]\n",
    "node_sizes = [G.nodes[node]['value'] * 10 for node in G.nodes] #Skalierung mal 10\n",
    "\n",
    "plt.figure(figsize=(12, 8))\n",
    "nx.draw_networkx_nodes(G, pos, node_color=node_colors, node_size=node_sizes)\n",
    "nx.draw_networkx_edges(G, pos, width=1, alpha=0.5)\n",
    "nx.draw_networkx_labels(G, pos, font_size=8, font_color='black', font_weight='bold')\n",
    "plt.title(\"Charakter Interaktionen Netzwerk in Starwars\", fontsize=18)\n",
    "plt.axis('off')\n",
    "plt.show()\n"
   ],
   "id": "cda289224407e4e6"
  },
  {
   "metadata": {},
   "cell_type": "markdown",
   "source": "Suchen ob es mehere Subgraphen gibt die untereinander nicht verbunden sind.",
   "id": "7ea1df53e94d0992"
  },
  {
   "metadata": {},
   "cell_type": "code",
   "outputs": [],
   "execution_count": null,
   "source": [
    "connected_components = list(nx.connected_components(G))\n",
    "num_components = len(connected_components)\n",
    "component_sizes = [len(component) for component in connected_components]\n",
    "\n",
    "plt.figure(figsize=(6, 5))\n",
    "plt.bar(range(1, num_components + 1), component_sizes)\n",
    "plt.xlabel(\"Graphen\")\n",
    "plt.ylabel(\"Anzahl der Knoten\")\n",
    "plt.title(\"Anzahl der Knoten in den verbundenen Komponenten\")\n",
    "plt.xticks(range(1, num_components + 1))\n",
    "plt.show()"
   ],
   "id": "d598b99eabc5406"
  },
  {
   "metadata": {},
   "cell_type": "markdown",
   "source": "# Zweites Netzwerk untersuchen",
   "id": "e35cacf502443575"
  },
  {
   "metadata": {},
   "cell_type": "code",
   "outputs": [],
   "execution_count": null,
   "source": [
    "#print connected components 2\n",
    "num_components, component_sizes"
   ],
   "id": "952945f2a233386"
  },
  {
   "metadata": {},
   "cell_type": "markdown",
   "source": "Eine Node scheint keine Interaktionen zu haben. Dies könnte ein Fehler in den Daten sein.",
   "id": "c1179fdc1be0372b"
  },
  {
   "metadata": {},
   "cell_type": "code",
   "outputs": [],
   "execution_count": null,
   "source": "connected_components[1]",
   "id": "f9841be83b9e3515"
  },
  {
   "metadata": {},
   "cell_type": "markdown",
   "source": "Gold five ist ein Pilot der Rebellenallianz und hat keine Interaktionen. Dies könnte ein Fehler in den Daten sein.",
   "id": "be792f66535f5d4a"
  },
  {
   "metadata": {},
   "cell_type": "code",
   "outputs": [],
   "execution_count": null,
   "source": "G.remove_node('GOLD FIVE')",
   "id": "a058bab911a84755"
  },
  {
   "metadata": {},
   "cell_type": "markdown",
   "source": "# Analyse der Cliques",
   "id": "968c6369494337d5"
  },
  {
   "metadata": {},
   "cell_type": "code",
   "outputs": [],
   "execution_count": null,
   "source": [
    "cliques = list(nx.find_cliques(G))\n",
    "clique_sizes = [len(clique) for clique in cliques]\n",
    "max_clique_size = max(clique_sizes)\n",
    "num_cliques = len(cliques)\n",
    "\n",
    "plt.figure(figsize=(5, 4))\n",
    "plt.hist(clique_sizes, bins=range(1, max_clique_size + 2), edgecolor='black', align='left')\n",
    "plt.xlabel(\"Cliquen grösse\")\n",
    "plt.ylabel(\"Häufigkeit\")\n",
    "plt.title(\"Verteilung der Cliquengrösse\")\n",
    "plt.xticks(range(1, max_clique_size + 1))\n",
    "plt.show()"
   ],
   "id": "7885baeb0ff6006a"
  },
  {
   "metadata": {},
   "cell_type": "code",
   "outputs": [],
   "execution_count": null,
   "source": [
    "largest_cliques = [clique for clique in cliques if len(clique) == max_clique_size]\n",
    "largest_clique = largest_cliques[0]\n",
    "subgraph_clique = G.subgraph(largest_clique)\n",
    "pos_clique = nx.spring_layout(subgraph_clique, seed=42)\n",
    "plt.figure(figsize=(8, 8))\n",
    "nx.draw_networkx_nodes(subgraph_clique, pos_clique, node_color='red', node_size=300)\n",
    "nx.draw_networkx_edges(subgraph_clique, pos_clique, width=2)\n",
    "nx.draw_networkx_labels(subgraph_clique, pos_clique, font_size=10, font_color='black')\n",
    "plt.title(f\"Grösste Cliquen (Grösse: {max_clique_size}) im Graphen\", fontsize=16)\n",
    "plt.axis('off')\n",
    "plt.show()"
   ],
   "id": "64bfcc5954886e31"
  },
  {
   "metadata": {},
   "cell_type": "markdown",
   "source": "# Interaction Datensatz",
   "id": "54a6528bac84f14e"
  },
  {
   "metadata": {},
   "cell_type": "markdown",
   "source": "## Analyse Edge-Betweenness Clustering",
   "id": "357ec12ae71a120f"
  },
  {
   "metadata": {},
   "cell_type": "code",
   "outputs": [],
   "execution_count": null,
   "source": [
    "communities_generator = girvan_newman(G)\n",
    "first_level_communities = next(communities_generator)\n",
    "clusters = [list(community) for community in first_level_communities]\n",
    "\n",
    "num_clusters = len(clusters)\n",
    "cluster_sizes = [len(cluster) for cluster in clusters]\n",
    "\n",
    "plt.figure(figsize=(6, 4))\n",
    "plt.bar(range(1, num_clusters + 1), cluster_sizes, color='skyblue', edgecolor='black')\n",
    "plt.xlabel(\"Cluster\")\n",
    "plt.ylabel(\"Anzahl der Knoten\")\n",
    "plt.title(\"Anzahl der Knoten in den Clustern\")\n",
    "plt.xticks(range(1, num_clusters + 1))\n",
    "plt.show()"
   ],
   "id": "2429606322929b44"
  },
  {
   "metadata": {},
   "cell_type": "code",
   "outputs": [],
   "execution_count": null,
   "source": [
    "cmap = matplotlib.colormaps.get_cmap(\"tab20\")\n",
    "colors = [cmap(i) for i in range(num_clusters)]\n",
    "color_map = {}\n",
    "\n",
    "for cluster_index, cluster_nodes in enumerate(clusters):\n",
    "    for node in cluster_nodes:\n",
    "        color_map[node] = colors[cluster_index]\n",
    "\n",
    "node_colors = [color_map[node] for node in G.nodes]\n",
    "\n",
    "plt.figure(figsize=(8, 8))\n",
    "pos = nx.spring_layout(G, seed=42,k=0.8)\n",
    "nx.draw_networkx_nodes(G, pos, node_color=node_colors, node_size=100, alpha=0.8)\n",
    "nx.draw_networkx_edges(G, pos, alpha=0.5)\n",
    "nx.draw_networkx_labels(G, pos, font_size=8, font_color='black')\n",
    "plt.title(\"Edge-Betweenness Clustering\", fontsize=18)\n",
    "plt.axis('off')\n",
    "plt.show()\n",
    "\n",
    "num_clusters, cluster_sizes"
   ],
   "id": "f48620c06eed94b4"
  },
  {
   "metadata": {},
   "cell_type": "code",
   "outputs": [],
   "execution_count": null,
   "source": [
    "fig, axes = plt.subplots(1, 3, figsize=(16, 8))\n",
    "axes = axes.flatten()\n",
    "\n",
    "for i, cluster in enumerate(clusters):\n",
    "    if i >= 1 * 3:\n",
    "        break\n",
    "\n",
    "    subgraph = G.subgraph(cluster)\n",
    "    pos_subgraph = nx.spring_layout(subgraph, seed=42, k=0.8)\n",
    "    ax = axes[i]\n",
    "    nx.draw_networkx_nodes(subgraph, pos_subgraph, node_color=[colors[i]] * len(subgraph),\n",
    "                           node_size=100, alpha=0.8, ax=ax)\n",
    "    nx.draw_networkx_edges(subgraph, pos_subgraph, alpha=0.5, ax=ax)\n",
    "    nx.draw_networkx_labels(subgraph, pos_subgraph, font_size=8, font_color='black', ax=ax)\n",
    "    ax.set_title(f\"Cluster {i + 1}\", fontsize=12)\n",
    "    ax.axis('off')\n",
    "\n",
    "        # Hide any unused subplots\n",
    "for j in range(i + 1, len(axes)):\n",
    "    axes[j].axis('off')\n"
   ],
   "id": "422aedcf24792d07"
  },
  {
   "metadata": {},
   "cell_type": "markdown",
   "source": "## Label Propagation Community Detection",
   "id": "22ea145b494b1ae5"
  },
  {
   "metadata": {},
   "cell_type": "code",
   "outputs": [],
   "execution_count": null,
   "source": [
    "label_propagation_communities_result = list(nx.algorithms.community.label_propagation_communities(G))\n",
    "num_label_propagation_communities = len(label_propagation_communities_result)\n",
    "distinct_colors_lp = [plt.cm.tab20(i / num_label_propagation_communities) for i in range(num_label_propagation_communities)]\n",
    "\n",
    "label_propagation_color_map = {}\n",
    "for i, community in enumerate(label_propagation_communities_result):\n",
    "    for node in community:\n",
    "        label_propagation_color_map[node] = distinct_colors_lp[i]\n",
    "\n",
    "node_colors_label_propagation = [label_propagation_color_map[node] for node in G.nodes]\n",
    "\n",
    "plt.figure(figsize=(15, 15))\n",
    "pos_label_propagation = nx.spring_layout(G, seed=42, k=3)\n",
    "nx.draw_networkx_nodes(G, pos_label_propagation, node_color=node_colors_label_propagation, node_size=100, alpha=0.9)\n",
    "nx.draw_networkx_edges(G, pos_label_propagation, alpha=0.5)\n",
    "nx.draw_networkx_labels(G, pos_label_propagation, font_size=8, font_color='black')\n",
    "plt.title(\"Clusters nach Labelpropagation\", fontsize=18)\n",
    "plt.axis('off')\n",
    "plt.show()\n"
   ],
   "id": "6a82abe5b9cbe349"
  },
  {
   "metadata": {},
   "cell_type": "code",
   "outputs": [],
   "execution_count": null,
   "source": [
    "# print the communities\n",
    "len(label_propagation_communities_result)"
   ],
   "id": "1fd81c2d6878520c"
  },
  {
   "metadata": {},
   "cell_type": "code",
   "outputs": [],
   "execution_count": null,
   "source": [
    "fig, axes = plt.subplots(2, 4, figsize=(16, 10))\n",
    "axes = axes.flatten()\n",
    "\n",
    "for i, community in enumerate(label_propagation_communities_result):\n",
    "    if i >= 2 * 4:\n",
    "        break\n",
    "\n",
    "    subgraph = G.subgraph(community)\n",
    "    pos_subgraph = nx.spring_layout(subgraph, seed=42, k=3)\n",
    "    ax = axes[i]\n",
    "    nx.draw_networkx_nodes(subgraph, pos_subgraph, node_color=[distinct_colors_lp[i]] * len(subgraph),\n",
    "                           node_size=100, alpha=0.9, ax=ax)\n",
    "    nx.draw_networkx_edges(subgraph, pos_subgraph, alpha=0.5, ax=ax)\n",
    "    nx.draw_networkx_labels(subgraph, pos_subgraph, font_size=8, font_color='black', ax=ax)\n",
    "    ax.set_title(f\"Community {i + 1}\", fontsize=12)\n",
    "    ax.axis('off')\n",
    "\n",
    "    # Hide any unused subplots\n",
    "for j in range(i + 1, len(axes)):\n",
    "    axes[j].axis('off')"
   ],
   "id": "4279b6664a5b32b4"
  },
  {
   "metadata": {},
   "cell_type": "markdown",
   "source": "## Louvain Community Detection",
   "id": "a94ef3e293f70cc7"
  },
  {
   "metadata": {},
   "cell_type": "code",
   "outputs": [],
   "execution_count": null,
   "source": [
    "louvain_communities_result = louvain_communities(G, seed=42)\n",
    "num_louvain_communities = len(louvain_communities_result)\n",
    "\n",
    "louvain_colors = plt.cm.rainbow(range(num_louvain_communities))\n",
    "louvain_color_map = {}\n",
    "\n",
    "for community_index, community_nodes in enumerate(louvain_communities_result):\n",
    "    for node in community_nodes:\n",
    "        louvain_color_map[node] = louvain_colors[community_index % len(louvain_colors)]\n",
    "\n",
    "node_colors_louvain = [louvain_color_map[node] for node in G.nodes]\n",
    "\n",
    "distinct_colors = [plt.cm.tab20(i / num_louvain_communities) for i in range(num_louvain_communities)]\n",
    "node_colors_louvain_distinct = []\n",
    "for node in G.nodes:\n",
    "    for i, community in enumerate(louvain_communities_result):\n",
    "        if node in community:\n",
    "            node_colors_louvain_distinct.append(distinct_colors[i])\n",
    "\n",
    "plt.figure(figsize=(15, 15))\n",
    "pos_louvain = nx.spring_layout(G, seed=42, k=3)\n",
    "nx.draw_networkx_nodes(G, pos_louvain, node_color=node_colors_louvain_distinct, node_size=100, alpha=0.9)\n",
    "nx.draw_networkx_edges(G, pos_louvain, alpha=0.5)\n",
    "nx.draw_networkx_labels(G, pos_louvain, font_size=8, font_color='black')\n",
    "plt.title(\"Louvain Community Detection\", fontsize=18)\n",
    "plt.axis('off')\n",
    "plt.show()"
   ],
   "id": "e96f068634f8d0c3"
  },
  {
   "metadata": {},
   "cell_type": "code",
   "outputs": [],
   "execution_count": null,
   "source": [
    "rows, cols = 2, 3\n",
    "fig, axes = plt.subplots(rows, cols, figsize=(16, 10))\n",
    "axes = axes.flatten()\n",
    "for i, community in enumerate(louvain_communities_result):\n",
    "    if i >= rows * cols:\n",
    "        break\n",
    "    subgraph = G.subgraph(community)\n",
    "    pos_subgraph = nx.spring_layout(subgraph, seed=42, k= 3)\n",
    "    ax = axes[i]\n",
    "    nx.draw_networkx_nodes(subgraph, pos_subgraph, node_color=[distinct_colors[i]] * len(subgraph),\n",
    "                           node_size=100, alpha=0.9, ax=ax)\n",
    "    nx.draw_networkx_edges(subgraph, pos_subgraph, alpha=0.5, ax=ax)\n",
    "    nx.draw_networkx_labels(subgraph, pos_subgraph, font_size=8, font_color='black', ax=ax)\n",
    "    ax.set_title(f\"Community {i + 1}\", fontsize=12)\n",
    "    ax.axis('off')\n",
    "\n",
    "for j in range(i + 1, len(axes)):\n",
    "    axes[j].axis('off')\n",
    "\n"
   ],
   "id": "b3fb3f595b73f2b5"
  },
  {
   "metadata": {},
   "cell_type": "code",
   "outputs": [],
   "execution_count": null,
   "source": [
    "# Assuming `louvain_communities_result` is the list of communities\n",
    "community_map = {}\n",
    "for i, community in enumerate(louvain_communities_result):\n",
    "    for node in community:\n",
    "        community_map[node] = i\n",
    "\n",
    "# Create a list to store inter-community edges\n",
    "inter_community_edges = []\n",
    "\n",
    "for u, v in G.edges():\n",
    "    if community_map[u] != community_map[v]:  # Check if nodes belong to different communities\n",
    "        inter_community_edges.append((u, v))\n",
    "\n",
    "# Create a subgraph for inter-community edges\n",
    "inter_community_subgraph = G.edge_subgraph(inter_community_edges)\n",
    "\n",
    "# Visualize the graph with inter-community edges highlighted\n",
    "plt.figure(figsize=(15, 15))\n",
    "pos = nx.spring_layout(G, seed=42, k=3)\n",
    "nx.draw_networkx_nodes(G, pos, node_color=node_colors_louvain_distinct, node_size=100, alpha=0.9)\n",
    "nx.draw_networkx_edges(G, pos, alpha=0.2)  # Default edges\n",
    "nx.draw_networkx_edges(inter_community_subgraph, pos, edge_color='red', alpha=0.8, width=2)  # Highlight inter-community edges\n",
    "nx.draw_networkx_labels(G, pos, font_size=8, font_color='black')\n",
    "plt.title(\"Louvain Communities and Inter-Community Connections\", fontsize=18)\n",
    "plt.axis('off')\n",
    "plt.show()"
   ],
   "id": "a78da284de21000b"
  },
  {
   "metadata": {},
   "cell_type": "markdown",
   "source": "# Mention Datasatz",
   "id": "4845876714d451f5"
  },
  {
   "metadata": {},
   "cell_type": "code",
   "outputs": [],
   "execution_count": null,
   "source": [
    "Gr = nx.Graph()\n",
    "\n",
    "for node in mention_data['nodes']:\n",
    "    Gr.add_node(node['name'], value=node['value'], color=node['colour'])\n",
    "\n",
    "for link in mention_data['links']:\n",
    "    source = mention_data['nodes'][link['source']]['name']\n",
    "    target = mention_data['nodes'][link['target']]['name']\n",
    "    Gr.add_edge(source, target, weight=link['value'])\n",
    "\n",
    "pos = nx.spring_layout(Gr, seed=42, k=2)\n",
    "node_colors = [Gr.nodes[node]['color'] for node in Gr.nodes]\n",
    "node_sizes = [Gr.nodes[node]['value'] * 10 for node in Gr.nodes] #Skalierung mal 10\n",
    "\n",
    "plt.figure(figsize=(12, 8))\n",
    "nx.draw_networkx_nodes(Gr, pos, node_color=node_colors, node_size=node_sizes)\n",
    "nx.draw_networkx_edges(Gr, pos, width=1, alpha=0.5)\n",
    "nx.draw_networkx_labels(Gr, pos, font_size=8, font_color='black', font_weight='bold')\n",
    "plt.title(\"Charakter Interaktionen Netzwerk in Starwars\", fontsize=18)\n",
    "plt.axis('off')\n",
    "plt.show()\n"
   ],
   "id": "e029ee67e8cc9f9a"
  },
  {
   "metadata": {},
   "cell_type": "code",
   "outputs": [],
   "execution_count": null,
   "source": "",
   "id": "d5d182d04185a565"
  },
  {
   "metadata": {},
   "cell_type": "code",
   "outputs": [],
   "execution_count": null,
   "source": [
    "connected_components = list(nx.connected_components(Gr))\n",
    "num_components = len(connected_components)\n",
    "component_sizes = [len(component) for component in connected_components]\n",
    "\n",
    "plt.figure(figsize=(6, 5))\n",
    "plt.bar(range(1, num_components + 1), component_sizes)\n",
    "plt.xlabel(\"Graphen\")\n",
    "plt.ylabel(\"Anzahl der Knoten\")\n",
    "plt.title(\"Anzahl der Knoten in den verbundenen Komponenten\")\n",
    "plt.xticks(range(1, num_components + 1))\n",
    "plt.show()"
   ],
   "id": "52da03e490675c02"
  },
  {
   "metadata": {},
   "cell_type": "code",
   "outputs": [],
   "execution_count": null,
   "source": [
    "label_propagation_communities_result = list(nx.algorithms.community.label_propagation_communities(Gr))\n",
    "num_label_propagation_communities = len(label_propagation_communities_result)\n",
    "distinct_colors_lp = [plt.cm.tab20(i / num_label_propagation_communities) for i in range(num_label_propagation_communities)]\n",
    "\n",
    "label_propagation_color_map = {}\n",
    "for i, community in enumerate(label_propagation_communities_result):\n",
    "    for node in community:\n",
    "        label_propagation_color_map[node] = distinct_colors_lp[i]\n",
    "\n",
    "node_colors_label_propagation = [label_propagation_color_map[node] for node in Gr.nodes]\n",
    "\n",
    "plt.figure(figsize=(15, 15))\n",
    "pos_label_propagation = nx.spring_layout(Gr, seed=42, k=3)\n",
    "nx.draw_networkx_nodes(Gr, pos_label_propagation, node_color=node_colors_label_propagation, node_size=100, alpha=0.9)\n",
    "nx.draw_networkx_edges(Gr, pos_label_propagation, alpha=0.5)\n",
    "nx.draw_networkx_labels(Gr, pos_label_propagation, font_size=8, font_color='black')\n",
    "plt.title(\"Clusters nach Labelpropagation\", fontsize=18)\n",
    "plt.axis('off')\n",
    "plt.show()\n"
   ],
   "id": "b96c5cd5894855d8"
  },
  {
   "metadata": {},
   "cell_type": "markdown",
   "source": "## Labelprop auf Mention",
   "id": "5a19a42d653d04e7"
  },
  {
   "metadata": {},
   "cell_type": "code",
   "outputs": [],
   "execution_count": null,
   "source": [
    "# print the communities\n",
    "len(label_propagation_communities_result)"
   ],
   "id": "c7fe763ab293479c"
  },
  {
   "metadata": {},
   "cell_type": "code",
   "outputs": [],
   "execution_count": null,
   "source": [
    "fig, axes = plt.subplots(2, 2, figsize=(16, 10))\n",
    "axes = axes.flatten()\n",
    "\n",
    "for i, community in enumerate(label_propagation_communities_result):\n",
    "    if i >= 2 * 2:\n",
    "        break\n",
    "\n",
    "    subgraph = Gr.subgraph(community)\n",
    "    pos_subgraph = nx.spring_layout(subgraph, seed=42, k=3)\n",
    "    ax = axes[i]\n",
    "    nx.draw_networkx_nodes(subgraph, pos_subgraph, node_color=[distinct_colors_lp[i]] * len(subgraph),\n",
    "                           node_size=100, alpha=0.9, ax=ax)\n",
    "    nx.draw_networkx_edges(subgraph, pos_subgraph, alpha=0.5, ax=ax)\n",
    "    nx.draw_networkx_labels(subgraph, pos_subgraph, font_size=8, font_color='black', ax=ax)\n",
    "    ax.set_title(f\"Community {i + 1}\", fontsize=12)\n",
    "    ax.axis('off')"
   ],
   "id": "bf36b3ea1624e2b7"
  },
  {
   "metadata": {},
   "cell_type": "markdown",
   "source": "## Louvain",
   "id": "fd7dc57fba06e63f"
  },
  {
   "metadata": {},
   "cell_type": "code",
   "outputs": [],
   "execution_count": null,
   "source": [
    "louvain_communities_result = louvain_communities(Gr, seed=42)\n",
    "num_louvain_communities = len(louvain_communities_result)\n",
    "\n",
    "louvain_colors = plt.cm.rainbow(range(num_louvain_communities))\n",
    "louvain_color_map = {}\n",
    "\n",
    "for community_index, community_nodes in enumerate(louvain_communities_result):\n",
    "    for node in community_nodes:\n",
    "        louvain_color_map[node] = louvain_colors[community_index % len(louvain_colors)]\n",
    "\n",
    "node_colors_louvain = [louvain_color_map[node] for node in Gr.nodes]\n",
    "\n",
    "distinct_colors = [plt.cm.tab20(i / num_louvain_communities) for i in range(num_louvain_communities)]\n",
    "node_colors_louvain_distinct = []\n",
    "for node in Gr.nodes:\n",
    "    for i, community in enumerate(louvain_communities_result):\n",
    "        if node in community:\n",
    "            node_colors_louvain_distinct.append(distinct_colors[i])\n",
    "\n",
    "plt.figure(figsize=(15, 15))\n",
    "pos_louvain = nx.spring_layout(Gr, seed=42, k=3)\n",
    "nx.draw_networkx_nodes(Gr, pos_louvain, node_color=node_colors_louvain_distinct, node_size=100, alpha=0.9)\n",
    "nx.draw_networkx_edges(Gr, pos_louvain, alpha=0.5)\n",
    "nx.draw_networkx_labels(Gr, pos_louvain, font_size=8, font_color='black')\n",
    "plt.title(\"Louvain Community Detection\", fontsize=18)\n",
    "plt.axis('off')\n",
    "plt.show()"
   ],
   "id": "14145da65622ed7"
  },
  {
   "metadata": {},
   "cell_type": "code",
   "outputs": [],
   "execution_count": null,
   "source": [
    "rows, cols = 2, 3\n",
    "fig, axes = plt.subplots(rows, cols, figsize=(16, 10))\n",
    "axes = axes.flatten()\n",
    "for i, community in enumerate(louvain_communities_result):\n",
    "    if i >= rows * cols:\n",
    "        break\n",
    "    subgraph = Gr.subgraph(community)\n",
    "    pos_subgraph = nx.spring_layout(subgraph, seed=42, k= 3)\n",
    "    ax = axes[i]\n",
    "    nx.draw_networkx_nodes(subgraph, pos_subgraph, node_color=[distinct_colors[i]] * len(subgraph),\n",
    "                           node_size=100, alpha=0.9, ax=ax)\n",
    "    nx.draw_networkx_edges(subgraph, pos_subgraph, alpha=0.5, ax=ax)\n",
    "    nx.draw_networkx_labels(subgraph, pos_subgraph, font_size=8, font_color='black', ax=ax)\n",
    "    ax.set_title(f\"Community {i + 1}\", fontsize=12)\n",
    "    ax.axis('off')\n",
    "\n",
    "# Hide any unused subplots\n",
    "for j in range(i + 1, len(axes)):\n",
    "    axes[j].axis('off')\n",
    "\n"
   ],
   "id": "e27c7920bb76cdd5"
  },
  {
   "metadata": {},
   "cell_type": "code",
   "outputs": [],
   "execution_count": null,
   "source": "",
   "id": "265acffaa188d4c1"
  }
 ],
 "metadata": {
  "kernelspec": {
   "display_name": "Python 3 (ipykernel)",
   "language": "python",
   "name": "python3"
  }
 },
 "nbformat": 5,
 "nbformat_minor": 9
}
