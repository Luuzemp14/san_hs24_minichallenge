{
 "cells": [
  {
   "cell_type": "markdown",
   "metadata": {},
   "source": [
    "# Link Prediction\n",
    "\n",
    "Um die Reichweite des Imperators im Sozialen Netzwerk zu vergrössern, verwenden wir eine Link Prediction. Somit wollen wir für nicht-verbundene Knoten eine passende Verbindung finden, um das Netzwerk zu vergrössern."
   ]
  },
  {
   "cell_type": "markdown",
   "metadata": {},
   "source": [
    "## Common Neighbours\n",
    "\n",
    "Common Neighbours berechnet für zwei nich verbunde Knoten, wieviele gemeinsame nNachbarn existieren. \n",
    "\n",
    "Die Formel für gemeinsame Nachbarn lautet: \n",
    "$\n",
    "\\text{common\\_neighbours}(X, Y) = \\lvert N(X) \\cap N(Y) \\rvert\n",
    "$"
   ]
  },
  {
   "cell_type": "code",
   "execution_count": 1,
   "metadata": {},
   "outputs": [
    {
     "name": "stdout",
     "output_type": "stream",
     "text": [
      "Top 10 Link Predictions basierend auf Common Neighbours mit Namen:\n",
      "NUTE GUNRAY - JAR JAR: gemeinsame Nachbarn = 5\n",
      "OBI-WAN - EMPEROR: gemeinsame Nachbarn = 5\n",
      "OBI-WAN - SEBULBA: gemeinsame Nachbarn = 5\n",
      "OBI-WAN - KITSTER: gemeinsame Nachbarn = 5\n",
      "OBI-WAN - JABBA: gemeinsame Nachbarn = 5\n",
      "OBI-WAN - RABE: gemeinsame Nachbarn = 5\n",
      "CAPTAIN PANAKA - SHMI: gemeinsame Nachbarn = 5\n",
      "SIO BIBBLE - BOSS NASS: gemeinsame Nachbarn = 5\n",
      "SIO BIBBLE - ANAKIN: gemeinsame Nachbarn = 5\n",
      "BOSS NASS - RIC OLIE: gemeinsame Nachbarn = 5\n"
     ]
    }
   ],
   "source": [
    "import json\n",
    "import networkx as nx\n",
    "\n",
    "with open('data/starwars-episode-1-interactions.json') as f:\n",
    "    data_interactions = json.load(f)\n",
    "\n",
    "# Graph erstellen: nutze direkt den 'name' aus den Node-Daten\n",
    "G = nx.Graph()\n",
    "\n",
    "for node in data_interactions['nodes']:\n",
    "    # Verwende den 'name' als Knotenidentifikator\n",
    "    G.add_node(node['name'])\n",
    "\n",
    "for link in data_interactions['links']:\n",
    "    src_id = link['source']\n",
    "    tgt_id = link['target']\n",
    "    # Falls source und target Indizes im nodes-Array sind:\n",
    "    source_name = data_interactions['nodes'][src_id]['name']\n",
    "    target_name = data_interactions['nodes'][tgt_id]['name']\n",
    "    G.add_edge(source_name, target_name)\n",
    "\n",
    "\n",
    "# Link-Prediction mit Common Neighbours\n",
    "potential_links = []\n",
    "nodes = list(G.nodes())\n",
    "n = len(nodes)\n",
    "\n",
    "for i in range(n):\n",
    "    for j in range(i+1, n):\n",
    "        u = nodes[i]\n",
    "        v = nodes[j]\n",
    "        if not G.has_edge(u, v):\n",
    "            cn_count = len(list(nx.common_neighbors(G, u, v)))\n",
    "            if cn_count > 0:\n",
    "                potential_links.append((u, v, cn_count))\n",
    "\n",
    "potential_links.sort(key=lambda x: x[2], reverse=True)\n",
    "\n",
    "print(\"Top 10 Link Predictions basierend auf Common Neighbours mit Namen:\")\n",
    "for u, v, score in potential_links[:10]:\n",
    "    print(f\"{u} - {v}: gemeinsame Nachbarn = {score}\")\n"
   ]
  },
  {
   "cell_type": "markdown",
   "metadata": {},
   "source": [
    "## Jaccard Coefficient\n",
    "\n",
    "Die Jaccarcd Coefficient Metrik ist eine Erweiterung der Common Neighbours Metrik.\n",
    "Sie berücksichtigt nicht nur die Anzahl gemeinsamer Nachbarn zweier Knoten, sondern\n",
    "setzt diese ins Verhältnis zu den Anzahl Nachbarn beider Knoten.\n",
    "\n",
    "Die Formel für die Jaccard Coefficient lautet wie folgt: \n",
    "\n",
    "$\n",
    "\\text{jaccard\\_coefficient}(X, Y) = \\frac{\\lvert N(X) \\cap N(Y) \\rvert}{\\lvert N(X) \\cup N(Y) \\rvert}\n",
    "$\n"
   ]
  },
  {
   "cell_type": "code",
   "execution_count": 2,
   "metadata": {},
   "outputs": [
    {
     "name": "stdout",
     "output_type": "stream",
     "text": [
      "Top 10 Link Predictions basierend auf Jaccard Coefficient:\n",
      "SIO BIBBLE - BOSS NASS: Jaccard = 0.6250\n",
      "BOSS NASS - RIC OLIE: Jaccard = 0.6250\n",
      "JIRA - C-3PO: Jaccard = 0.6000\n",
      "JIRA - WATTO: Jaccard = 0.6000\n",
      "RUNE - GENERAL CEEL: Jaccard = 0.6000\n",
      "SEBULBA - KITSTER: Jaccard = 0.5556\n",
      "SHMI - BOSS NASS: Jaccard = 0.5556\n",
      "SEBULBA - BOSS NASS: Jaccard = 0.5000\n",
      "SEBULBA - JIRA: Jaccard = 0.5000\n",
      "SEBULBA - FODE/BEED: Jaccard = 0.5000\n"
     ]
    }
   ],
   "source": [
    "import json\n",
    "import networkx as nx\n",
    "\n",
    "with open('data/starwars-episode-1-interactions.json') as f:\n",
    "    data_interactions = json.load(f)\n",
    "\n",
    "# Erstelle den Graphen\n",
    "G = nx.Graph()\n",
    "\n",
    "# Falls deine Daten so aufgebaut sind, dass die nodes-Liste Einträge wie {'name': 'Luke Skywalker'} enthält\n",
    "for node in data_interactions['nodes']:\n",
    "    G.add_node(node['name'])\n",
    "\n",
    "# Falls 'source' und 'target' direkt die Namen enthalten, kannst du sie direkt nutzen.\n",
    "# Falls es Indizes sind, musst du die Namen entsprechend aus data_interactions['nodes'] herauslesen.\n",
    "for link in data_interactions['links']:\n",
    "    src_id = link['source']\n",
    "    tgt_id = link['target']\n",
    "    source_name = data_interactions['nodes'][src_id]['name']\n",
    "    target_name = data_interactions['nodes'][tgt_id]['name']\n",
    "    G.add_edge(source_name, target_name)\n",
    "\n",
    "# Jaccard-Koeffizienten für alle unverbundenen Paare berechnen\n",
    "jaccard_scores = list(nx.jaccard_coefficient(G))\n",
    "\n",
    "# jaccard_scores ist eine Liste von Tupeln (u, v, p) wobei p der Jaccard-Koeffizient ist\n",
    "# Sortieren nach p absteigend\n",
    "jaccard_scores.sort(key=lambda x: x[2], reverse=True)\n",
    "\n",
    "# Top 10 ausgeben\n",
    "print(\"Top 10 Link Predictions basierend auf Jaccard Coefficient:\")\n",
    "for u, v, score in jaccard_scores[:10]:\n",
    "    print(f\"{u} - {v}: Jaccard = {score:.4f}\")\n"
   ]
  }
 ],
 "metadata": {
  "kernelspec": {
   "display_name": "gbsv_deepdive1",
   "language": "python",
   "name": "python3"
  },
  "language_info": {
   "codemirror_mode": {
    "name": "ipython",
    "version": 3
   },
   "file_extension": ".py",
   "mimetype": "text/x-python",
   "name": "python",
   "nbconvert_exporter": "python",
   "pygments_lexer": "ipython3",
   "version": "3.11.7"
  }
 },
 "nbformat": 4,
 "nbformat_minor": 2
}
