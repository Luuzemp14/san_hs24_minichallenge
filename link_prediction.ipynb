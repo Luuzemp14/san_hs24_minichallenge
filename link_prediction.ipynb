{
 "cells": [
  {
   "cell_type": "markdown",
   "metadata": {},
   "source": [
    "# Link Prediction\n",
    "\n",
    "Um die Reichweite des Imperators im Sozialen Netzwerk zu vergrössern, verwenden wir eine Link Prediction. Somit wollen wir für nicht-verbundene Knoten eine passende Verbindung finden, um das Netzwerk zu vergrössern."
   ]
  },
  {
   "cell_type": "markdown",
   "metadata": {},
   "source": [
    "## Common Neighbours\n",
    "\n",
    "Common Neighbours berechnet für zwei nich verbunde Knoten, wieviele gemeinsame nNachbarn existieren. \n",
    "\n",
    "Die Formel für gemeinsame Nachbarn lautet: \n",
    "$\n",
    "\\text{common\\_neighbours}(X, Y) = \\lvert N(X) \\cap N(Y) \\rvert\n",
    "$"
   ]
  },
  {
   "cell_type": "code",
   "execution_count": 10,
   "metadata": {},
   "outputs": [
    {
     "name": "stdout",
     "output_type": "stream",
     "text": [
      "Top 10 Link Predictions basierend auf Common Neighbours mit Namen:\n",
      "NUTE GUNRAY - JAR JAR: gemeinsame Nachbarn = 5\n",
      "OBI-WAN - EMPEROR: gemeinsame Nachbarn = 5\n",
      "OBI-WAN - SEBULBA: gemeinsame Nachbarn = 5\n",
      "OBI-WAN - KITSTER: gemeinsame Nachbarn = 5\n",
      "OBI-WAN - JABBA: gemeinsame Nachbarn = 5\n",
      "OBI-WAN - RABE: gemeinsame Nachbarn = 5\n",
      "CAPTAIN PANAKA - SHMI: gemeinsame Nachbarn = 5\n",
      "SIO BIBBLE - BOSS NASS: gemeinsame Nachbarn = 5\n",
      "SIO BIBBLE - ANAKIN: gemeinsame Nachbarn = 5\n",
      "BOSS NASS - RIC OLIE: gemeinsame Nachbarn = 5\n",
      "Graph with 37 nodes and 129 edges\n"
     ]
    }
   ],
   "source": [
    "import json\n",
    "import networkx as nx\n",
    "\n",
    "with open('data/starwars-episode-1-interactions.json') as f:\n",
    "    data_interactions = json.load(f)\n",
    "\n",
    "# Graph erstellen: nutze direkt den 'name' aus den Node-Daten\n",
    "G = nx.Graph()\n",
    "\n",
    "for node in data_interactions['nodes']:\n",
    "    # Verwende den 'name' als Knotenidentifikator\n",
    "    G.add_node(node['name'])\n",
    "\n",
    "for link in data_interactions['links']:\n",
    "    src_id = link['source']\n",
    "    tgt_id = link['target']\n",
    "    # Falls source und target Indizes im nodes-Array sind:\n",
    "    source_name = data_interactions['nodes'][src_id]['name']\n",
    "    target_name = data_interactions['nodes'][tgt_id]['name']\n",
    "    G.add_edge(source_name, target_name)\n",
    "\n",
    "\n",
    "# Link-Prediction mit Common Neighbours\n",
    "potential_links = []\n",
    "nodes = list(G.nodes())\n",
    "n = len(nodes)\n",
    "\n",
    "for i in range(n):\n",
    "    for j in range(i+1, n):\n",
    "        u = nodes[i]\n",
    "        v = nodes[j]\n",
    "        if not G.has_edge(u, v):\n",
    "            cn_count = len(list(nx.common_neighbors(G, u, v)))\n",
    "            if cn_count > 0:\n",
    "                potential_links.append((u, v, cn_count))\n",
    "\n",
    "potential_links.sort(key=lambda x: x[2], reverse=True)\n",
    "\n",
    "print(\"Top 10 Link Predictions basierend auf Common Neighbours mit Namen:\")\n",
    "for u, v, score in potential_links[:10]:\n",
    "    print(f\"{u} - {v}: gemeinsame Nachbarn = {score}\")\n",
    "\n",
    "print(G)"
   ]
  },
  {
   "cell_type": "markdown",
   "metadata": {},
   "source": [
    "## Jaccard Coefficient\n",
    "\n",
    "Die Jaccarcd Coefficient Metrik ist eine Erweiterung der Common Neighbours Metrik.\n",
    "Sie berücksichtigt nicht nur die Anzahl gemeinsamer Nachbarn zweier Knoten, sondern\n",
    "setzt diese ins Verhältnis zu den Anzahl Nachbarn beider Knoten.\n",
    "\n",
    "Die Formel für die Jaccard Coefficient lautet wie folgt: \n",
    "\n",
    "$\n",
    "\\text{jaccard\\_coefficient}(X, Y) = \\frac{\\lvert N(X) \\cap N(Y) \\rvert}{\\lvert N(X) \\cup N(Y) \\rvert}\n",
    "$\n"
   ]
  },
  {
   "cell_type": "code",
   "execution_count": null,
   "metadata": {},
   "outputs": [
    {
     "name": "stdout",
     "output_type": "stream",
     "text": [
      "Top 10 Link Predictions basierend auf Jaccard Coefficient:\n",
      "SIO BIBBLE - BOSS NASS: Jaccard = 0.6250\n",
      "BOSS NASS - RIC OLIE: Jaccard = 0.6250\n",
      "JIRA - C-3PO: Jaccard = 0.6000\n",
      "JIRA - WATTO: Jaccard = 0.6000\n",
      "RUNE - GENERAL CEEL: Jaccard = 0.6000\n",
      "SEBULBA - KITSTER: Jaccard = 0.5556\n",
      "SHMI - BOSS NASS: Jaccard = 0.5556\n",
      "SEBULBA - BOSS NASS: Jaccard = 0.5000\n",
      "SEBULBA - JIRA: Jaccard = 0.5000\n",
      "SEBULBA - FODE/BEED: Jaccard = 0.5000\n",
      "Graph with 37 nodes and 129 edges\n"
     ]
    }
   ],
   "source": [
    "import json\n",
    "import networkx as nx\n",
    "\n",
    "with open('data/starwars-episode-1-interactions.json') as f:\n",
    "    data_interactions = json.load(f)\n",
    "\n",
    "# Erstelle den Graphen\n",
    "G = nx.Graph()\n",
    "\n",
    "for node in data_interactions['nodes']:\n",
    "    G.add_node(node['name'])\n",
    "\n",
    "# Falls 'source' und 'target' direkt die Namen enthalten, kannst du sie direkt nutzen.\n",
    "# Falls es Indizes sind, musst du die Namen entsprechend aus data_interactions['nodes'] herauslesen.\n",
    "for link in data_interactions['links']:\n",
    "    src_id = link['source']\n",
    "    tgt_id = link['target']\n",
    "    source_name = data_interactions['nodes'][src_id]['name']\n",
    "    target_name = data_interactions['nodes'][tgt_id]['name']\n",
    "    G.add_edge(source_name, target_name)\n",
    "\n",
    "# Jaccard-Koeffizienten für alle unverbundenen Paare berechnen\n",
    "jaccard_scores = list(nx.jaccard_coefficient(G))\n",
    "\n",
    "# jaccard_scores ist eine Liste von Tupeln (u, v, p) wobei p der Jaccard-Koeffizient ist\n",
    "# Sortieren nach p absteigend\n",
    "jaccard_scores.sort(key=lambda x: x[2], reverse=True)\n",
    "\n",
    "# Top 10 ausgeben\n",
    "print(\"Top 10 Link Predictions basierend auf Jaccard Coefficient:\")\n",
    "for u, v, score in jaccard_scores[:10]:\n",
    "    print(f\"{u} - {v}: Jaccard = {score:.4f}\")\n",
    "\n",
    "print(G)"
   ]
  },
  {
   "cell_type": "markdown",
   "metadata": {},
   "source": [
    "## Resource Allocatoin\n",
    "\n",
    "Der Ansatz bei der Resource Allocation basiert darauf, dass ein Knoten X Ressourcen (z. B. Informationen) über gemeinsame Nachbarn an einen nicht direkt verbundenen Knoten Z weiterleiten kann. \n",
    "\n",
    "X sendet die Ressource an einen gemeinsamen Nachbarn Y, der sie gleichmäßig auf alle seine Nachbarn verteilt. Hat Y viele Nachbarn, erhält Z nur einen kleinen Anteil der Ressource.\n",
    "\n",
    "Die Formel für Resource Allocaton lautet: \n",
    "$$\n",
    "\\text{resource\\_allocation}(X, Y) = \\sum_{u \\in N(X) \\cap N(Y)} \\frac{1}{|N(u)|}\n",
    "$$\n"
   ]
  },
  {
   "cell_type": "code",
   "execution_count": 11,
   "metadata": {},
   "outputs": [
    {
     "name": "stdout",
     "output_type": "stream",
     "text": [
      "Top 10 Link Predictions basierend auf Resource Allocation:\n",
      "RABE - OBI-WAN: RA = 0.5855\n",
      "JAR JAR - NUTE GUNRAY: RA = 0.5826\n",
      "NUTE GUNRAY - OBI-WAN: RA = 0.4417\n",
      "RUNE - GENERAL CEEL: RA = 0.4409\n",
      "TEY HOW - TC-14: RA = 0.4333\n",
      "DOFINE - RUNE: RA = 0.4333\n",
      "OBI-WAN - EMPEROR: RA = 0.4083\n",
      "TEY HOW - DARTH MAUL: RA = 0.3500\n",
      "TEY HOW - EMPEROR: RA = 0.3500\n",
      "SIO BIBBLE - ANAKIN: RA = 0.3424\n",
      "Graph with 37 nodes and 129 edges\n"
     ]
    }
   ],
   "source": [
    "import json\n",
    "import networkx as nx\n",
    "\n",
    "with open('data/starwars-episode-1-interactions.json') as f:\n",
    "    data_interactions = json.load(f)\n",
    "\n",
    "G = nx.Graph()\n",
    "\n",
    "# für alle links in data_interactions einen Knoten hinzufügen\n",
    "for node in data_interactions['nodes']:\n",
    "    G.add_node(node['name'])\n",
    "\n",
    "for link in data_interactions['links']:\n",
    "    src_id = link['source']\n",
    "    tgt_id = link['target']\n",
    "    source_name = data_interactions['nodes'][src_id]['name']\n",
    "    target_name = data_interactions['nodes'][tgt_id]['name']\n",
    "    G.add_edge(source_name, target_name)\n",
    "\n",
    "\n",
    "# Resource Allocation\n",
    "ra_scores = list(nx.resource_allocation_index(G))\n",
    "\n",
    "# ra_scores ist eine Liste von (u, v, p) Tupeln, wobei p der RA-Wert ist\n",
    "ra_scores.sort(key=lambda x: x[2], reverse=True)\n",
    "\n",
    "print(\"Top 10 Link Predictions basierend auf Resource Allocation:\")\n",
    "for u, v, score in ra_scores[:10]:\n",
    "    print(f\"{u} - {v}: RA = {score:.4f}\")\n",
    "print(G)"
   ]
  },
  {
   "cell_type": "markdown",
   "metadata": {},
   "source": [
    "## Ademic Adar\n",
    "\n",
    "Diese Metrik berechnet sich fast genau gleich wie Resource Allocation. Der einzige\n",
    "Unterschied ist, dass das Gewicht des Nenners abgeschwächt wird, indem da der Loga-\n",
    "rithmus verwendet wird:\n",
    "\n",
    "$$\n",
    "\\text{adamic\\_adar}(X, Y) = \\sum_{u \\in N(X) \\cap N(Y)} \\frac{1}{\\ln(|N(u)|)}\n",
    "$$\n"
   ]
  },
  {
   "cell_type": "code",
   "execution_count": 12,
   "metadata": {},
   "outputs": [
    {
     "name": "stdout",
     "output_type": "stream",
     "text": [
      "Top 10 Link Predictions basierend auf Adamic-Adar:\n",
      "JAR JAR - NUTE GUNRAY: Adamic-Adar = 2.3159\n",
      "RABE - OBI-WAN: Adamic-Adar = 2.3085\n",
      "OBI-WAN - EMPEROR: Adamic-Adar = 1.9786\n",
      "SIO BIBBLE - ANAKIN: Adamic-Adar = 1.8546\n",
      "SIO BIBBLE - BOSS NASS: Adamic-Adar = 1.8546\n",
      "BOSS NASS - RIC OLIE: Adamic-Adar = 1.8252\n",
      "PADME - RIC OLIE: Adamic-Adar = 1.8252\n",
      "SEBULBA - KITSTER: Adamic-Adar = 1.8140\n",
      "SEBULBA - OBI-WAN: Adamic-Adar = 1.8140\n",
      "KITSTER - JABBA: Adamic-Adar = 1.8140\n",
      "Graph with 37 nodes and 129 edges\n"
     ]
    }
   ],
   "source": [
    "import json\n",
    "import networkx as nx\n",
    "\n",
    "with open('data/starwars-episode-1-interactions.json') as f:\n",
    "    data_interactions = json.load(f)\n",
    "\n",
    "G = nx.Graph()\n",
    "\n",
    "for node in data_interactions['nodes']:\n",
    "    G.add_node(node['name'])\n",
    "\n",
    "for link in data_interactions['links']:\n",
    "    src_id = link['source']\n",
    "    tgt_id = link['target']\n",
    "    source_name = data_interactions['nodes'][src_id]['name']\n",
    "    target_name = data_interactions['nodes'][tgt_id]['name']\n",
    "    G.add_edge(source_name, target_name)\n",
    "\n",
    "\n",
    "# Adamic-Adar\n",
    "aa_scores = list(nx.adamic_adar_index(G))\n",
    "\n",
    "# aa_scores ist eine Liste von (u, v, p) Tupeln, wobei p der Adamic-Adar-Wert ist\n",
    "aa_scores.sort(key=lambda x: x[2], reverse=True)\n",
    "\n",
    "print(\"Top 10 Link Predictions basierend auf Adamic-Adar:\")\n",
    "for u, v, score in aa_scores[:10]:\n",
    "    print(f\"{u} - {v}: Adamic-Adar = {score:.4f}\")\n",
    "\n",
    "print(G)"
   ]
  },
  {
   "cell_type": "markdown",
   "metadata": {},
   "source": [
    "## Sind Links entstanden für 2. episode? "
   ]
  },
  {
   "cell_type": "markdown",
   "metadata": {},
   "source": []
  },
  {
   "cell_type": "code",
   "execution_count": 13,
   "metadata": {},
   "outputs": [
    {
     "name": "stdout",
     "output_type": "stream",
     "text": [
      "Jar Jar Binks - Nute Gunray connection in Episode 2:\n",
      "False\n",
      "Graph with 32 nodes and 98 edges\n"
     ]
    }
   ],
   "source": [
    "# check if Jar Jar and Nute Gurnay have connection in 2. episode\n",
    "\n",
    "import json\n",
    "import networkx as nx\n",
    "\n",
    "with open('data/starwars-episode-2-interactions.json') as f:\n",
    "    data_interactions = json.load(f)\n",
    "\n",
    "G = nx.Graph()\n",
    "\n",
    "for node in data_interactions['nodes']:\n",
    "    G.add_node(node['name'])\n",
    "\n",
    "for link in data_interactions['links']:\n",
    "    src_id = link['source']\n",
    "    tgt_id = link['target']\n",
    "    source_name = data_interactions['nodes'][src_id]['name']\n",
    "    target_name = data_interactions['nodes'][tgt_id]['name']\n",
    "    G.add_edge(source_name, target_name)\n",
    "\n",
    "# check if Jar Jar and Nute Gurnay have connection in 2. episode\n",
    "print(\"Jar Jar Binks - Nute Gunray connection in Episode 2:\")\n",
    "print(G.has_edge('Jar Jar Binks', \n",
    "                    'Nute Gunray'))\n",
    "\n",
    "print(G)\n"
   ]
  },
  {
   "cell_type": "code",
   "execution_count": null,
   "metadata": {},
   "outputs": [],
   "source": []
  }
 ],
 "metadata": {
  "kernelspec": {
   "display_name": "gbsv_deepdive1",
   "language": "python",
   "name": "python3"
  },
  "language_info": {
   "codemirror_mode": {
    "name": "ipython",
    "version": 3
   },
   "file_extension": ".py",
   "mimetype": "text/x-python",
   "name": "python",
   "nbconvert_exporter": "python",
   "pygments_lexer": "ipython3",
   "version": "3.11.7"
  }
 },
 "nbformat": 4,
 "nbformat_minor": 2
}
